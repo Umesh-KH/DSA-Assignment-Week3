{
 "cells": [
  {
   "cell_type": "code",
   "execution_count": 2,
   "id": "79a53dcd",
   "metadata": {},
   "outputs": [],
   "source": [
    "list1 = [1,2,3,4]\n",
    "list2 = [2,3,4,5]"
   ]
  },
  {
   "cell_type": "code",
   "execution_count": 3,
   "id": "9429272e",
   "metadata": {},
   "outputs": [
    {
     "name": "stdout",
     "output_type": "stream",
     "text": [
      "3\n",
      "5\n",
      "7\n",
      "9\n"
     ]
    }
   ],
   "source": [
    "for i,j in zip(list1,list2):\n",
    "    print(i+j)"
   ]
  },
  {
   "cell_type": "code",
   "execution_count": 5,
   "id": "3f239ad0",
   "metadata": {},
   "outputs": [
    {
     "name": "stdout",
     "output_type": "stream",
     "text": [
      "[3, 5, 7, 9]\n"
     ]
    }
   ],
   "source": [
    "list3 = []\n",
    "for i,j in zip(list1,list2):\n",
    "    list3.append(i+j)\n",
    "print(list3)"
   ]
  },
  {
   "cell_type": "markdown",
   "id": "a45e5a25",
   "metadata": {},
   "source": [
    "## Above Operation Using NumPy"
   ]
  },
  {
   "cell_type": "code",
   "execution_count": 7,
   "id": "baab8045",
   "metadata": {},
   "outputs": [
    {
     "data": {
      "text/plain": [
       "array([3, 5, 7, 9])"
      ]
     },
     "execution_count": 7,
     "metadata": {},
     "output_type": "execute_result"
    }
   ],
   "source": [
    "# Import Numpy as np\n",
    "import numpy as np\n",
    "\n",
    "# Convert list1 and list2 to two different arrays\n",
    "arr1 = np.array(list1)\n",
    "arr2 = np.array(list2)\n",
    "sum1 = arr1+arr2\n",
    "sum1"
   ]
  },
  {
   "cell_type": "code",
   "execution_count": 8,
   "id": "28199a85",
   "metadata": {},
   "outputs": [
    {
     "name": "stdout",
     "output_type": "stream",
     "text": [
      "Variable   Type       Data/Info\n",
      "-------------------------------\n",
      "arr1       ndarray    4: 4 elems, type `int32`, 16 bytes\n",
      "arr2       ndarray    4: 4 elems, type `int32`, 16 bytes\n",
      "i          int        4\n",
      "j          int        5\n",
      "list1      list       n=4\n",
      "list2      list       n=4\n",
      "list3      list       n=4\n",
      "np         module     <module 'numpy' from 'C:\\<...>ges\\\\numpy\\\\__init__.py'>\n",
      "sum1       ndarray    4: 4 elems, type `int32`, 16 bytes\n"
     ]
    }
   ],
   "source": [
    "# To check the list of variables, its type and other info\n",
    "%whos"
   ]
  },
  {
   "cell_type": "markdown",
   "id": "8c3bf72a",
   "metadata": {},
   "source": [
    "## Different Datatypes in Array"
   ]
  },
  {
   "cell_type": "code",
   "execution_count": 10,
   "id": "2e98723b",
   "metadata": {},
   "outputs": [
    {
     "data": {
      "text/plain": [
       "[[1, 2, 3, 4], [5, 6, 7, 8]]"
      ]
     },
     "execution_count": 10,
     "metadata": {},
     "output_type": "execute_result"
    }
   ],
   "source": [
    "# list of List\n",
    "data2 = [[1,2,3,4],[5,6,7,8]]\n",
    "data2"
   ]
  },
  {
   "cell_type": "code",
   "execution_count": 11,
   "id": "17ac4c00",
   "metadata": {},
   "outputs": [
    {
     "data": {
      "text/plain": [
       "array([[1, 2, 3, 4],\n",
       "       [5, 6, 7, 8]])"
      ]
     },
     "execution_count": 11,
     "metadata": {},
     "output_type": "execute_result"
    }
   ],
   "source": [
    "arr3 = np.array(data2)\n",
    "arr3"
   ]
  },
  {
   "cell_type": "code",
   "execution_count": 14,
   "id": "0e99eb90",
   "metadata": {},
   "outputs": [
    {
     "data": {
      "text/plain": [
       "2"
      ]
     },
     "execution_count": 14,
     "metadata": {},
     "output_type": "execute_result"
    }
   ],
   "source": [
    "# By default, the array is 2 dimensional\n",
    "# To check the dimension of an array, use:\n",
    "arr3.ndim"
   ]
  },
  {
   "cell_type": "code",
   "execution_count": 15,
   "id": "cade338c",
   "metadata": {},
   "outputs": [
    {
     "data": {
      "text/plain": [
       "dtype('int32')"
      ]
     },
     "execution_count": 15,
     "metadata": {},
     "output_type": "execute_result"
    }
   ],
   "source": [
    "# To check the type of the array, use:\n",
    "arr3.dtype"
   ]
  },
  {
   "cell_type": "code",
   "execution_count": 16,
   "id": "4c1a7d67",
   "metadata": {},
   "outputs": [
    {
     "data": {
      "text/plain": [
       "(2, 4)"
      ]
     },
     "execution_count": 16,
     "metadata": {},
     "output_type": "execute_result"
    }
   ],
   "source": [
    "# To check the shape of the array, use: \n",
    "# Gives out (rows, column)\n",
    "arr3.shape"
   ]
  },
  {
   "cell_type": "code",
   "execution_count": 17,
   "id": "e084d839",
   "metadata": {},
   "outputs": [
    {
     "data": {
      "text/plain": [
       "array([[1., 2., 3., 4.],\n",
       "       [5., 6., 7., 8.]])"
      ]
     },
     "execution_count": 17,
     "metadata": {},
     "output_type": "execute_result"
    }
   ],
   "source": [
    "# To predefine the datatype\n",
    "arr4 = np.array(data2, dtype=float)\n",
    "arr4"
   ]
  },
  {
   "cell_type": "markdown",
   "id": "18be724e",
   "metadata": {},
   "source": [
    "## Range & Reshape Function"
   ]
  },
  {
   "cell_type": "code",
   "execution_count": 18,
   "id": "85b480dc",
   "metadata": {},
   "outputs": [
    {
     "data": {
      "text/plain": [
       "[0, 1, 2, 3, 4, 5, 6]"
      ]
     },
     "execution_count": 18,
     "metadata": {},
     "output_type": "execute_result"
    }
   ],
   "source": [
    "list(range(7))"
   ]
  },
  {
   "cell_type": "code",
   "execution_count": 19,
   "id": "8561a399",
   "metadata": {},
   "outputs": [
    {
     "data": {
      "text/plain": [
       "array([0, 1, 2, 3, 4, 5, 6])"
      ]
     },
     "execution_count": 19,
     "metadata": {},
     "output_type": "execute_result"
    }
   ],
   "source": [
    "np.arange(7)"
   ]
  },
  {
   "cell_type": "code",
   "execution_count": 21,
   "id": "5242c895",
   "metadata": {},
   "outputs": [
    {
     "data": {
      "text/plain": [
       "array([ 4,  5,  6,  7,  8,  9, 10, 11, 12, 13, 14, 15, 16, 17, 18, 19])"
      ]
     },
     "execution_count": 21,
     "metadata": {},
     "output_type": "execute_result"
    }
   ],
   "source": [
    "arr5 = np.arange(4,20)\n",
    "arr5"
   ]
  },
  {
   "cell_type": "code",
   "execution_count": 22,
   "id": "5eebb881",
   "metadata": {},
   "outputs": [
    {
     "data": {
      "text/plain": [
       "array([ 4,  6,  8, 10, 12, 14, 16, 18])"
      ]
     },
     "execution_count": 22,
     "metadata": {},
     "output_type": "execute_result"
    }
   ],
   "source": [
    "arr6 = np.arange(4,20,2)\n",
    "arr6"
   ]
  },
  {
   "cell_type": "code",
   "execution_count": 25,
   "id": "c3f45440",
   "metadata": {},
   "outputs": [
    {
     "data": {
      "text/plain": [
       "array([[ 4,  6],\n",
       "       [ 8, 10],\n",
       "       [12, 14],\n",
       "       [16, 18]])"
      ]
     },
     "execution_count": 25,
     "metadata": {},
     "output_type": "execute_result"
    }
   ],
   "source": [
    "# Here arr6 has 1 row and 8 columns. To reshape it, use:\n",
    "arr7 = arr6.reshape(4,2)\n",
    "# Only condition : Product of rows and columns = Total number of elements\n",
    "arr7"
   ]
  },
  {
   "cell_type": "code",
   "execution_count": 26,
   "id": "398bdf21",
   "metadata": {},
   "outputs": [
    {
     "data": {
      "text/plain": [
       "array([ 1. ,  6.8, 12.6, 18.4, 24.2, 30. ])"
      ]
     },
     "execution_count": 26,
     "metadata": {},
     "output_type": "execute_result"
    }
   ],
   "source": [
    "# To split a range into equal intervals, use:\n",
    "arr8 = np.linspace(1,30,6)\n",
    "arr8"
   ]
  },
  {
   "cell_type": "markdown",
   "id": "94e20b31",
   "metadata": {},
   "source": [
    "## Operations using Index"
   ]
  },
  {
   "cell_type": "code",
   "execution_count": 90,
   "id": "7e733162",
   "metadata": {},
   "outputs": [
    {
     "data": {
      "text/plain": [
       "array([ 5,  6,  7,  8,  9, 10, 11, 12, 13, 14, 15, 16, 17, 18, 19, 20])"
      ]
     },
     "execution_count": 90,
     "metadata": {},
     "output_type": "execute_result"
    }
   ],
   "source": [
    "ind = np.arange(5,21)\n",
    "ind"
   ]
  },
  {
   "cell_type": "code",
   "execution_count": 28,
   "id": "ceacbef6",
   "metadata": {},
   "outputs": [
    {
     "data": {
      "text/plain": [
       "array([10, 11, 12, 13, 14, 15, 16, 17, 18, 19, 20])"
      ]
     },
     "execution_count": 28,
     "metadata": {},
     "output_type": "execute_result"
    }
   ],
   "source": [
    "# To select values indexed at 5 till the value 20, use:\n",
    "ind[5:20]"
   ]
  },
  {
   "cell_type": "code",
   "execution_count": 29,
   "id": "8339c2f6",
   "metadata": {},
   "outputs": [
    {
     "data": {
      "text/plain": [
       "10"
      ]
     },
     "execution_count": 29,
     "metadata": {},
     "output_type": "execute_result"
    }
   ],
   "source": [
    "# To use the value specified at a certain index, use:\n",
    "ind[5]"
   ]
  },
  {
   "cell_type": "code",
   "execution_count": 30,
   "id": "ec8c32a7",
   "metadata": {},
   "outputs": [
    {
     "data": {
      "text/plain": [
       "array([10, 11, 12, 13, 14, 15, 16, 17, 18, 19, 20])"
      ]
     },
     "execution_count": 30,
     "metadata": {},
     "output_type": "execute_result"
    }
   ],
   "source": [
    "# To use the values specified from one index till the end of the list, use:\n",
    "ind[5:]"
   ]
  },
  {
   "cell_type": "code",
   "execution_count": 31,
   "id": "d4a2a6d0",
   "metadata": {},
   "outputs": [
    {
     "data": {
      "text/plain": [
       "array([5, 6, 7, 8, 9])"
      ]
     },
     "execution_count": 31,
     "metadata": {},
     "output_type": "execute_result"
    }
   ],
   "source": [
    "# To use the values specified from the beginning of the list till an index, use:\n",
    "ind[:5]"
   ]
  },
  {
   "cell_type": "code",
   "execution_count": 32,
   "id": "9564f379",
   "metadata": {},
   "outputs": [
    {
     "data": {
      "text/plain": [
       "array([10, 15,  6])"
      ]
     },
     "execution_count": 32,
     "metadata": {},
     "output_type": "execute_result"
    }
   ],
   "source": [
    "# To choose values indexed at multiple points, use list of list:\n",
    "ind[[5,10,1]]"
   ]
  },
  {
   "cell_type": "markdown",
   "id": "5bf66a27",
   "metadata": {},
   "source": [
    "## Arrays with multiple rows and negative numbers"
   ]
  },
  {
   "cell_type": "code",
   "execution_count": 33,
   "id": "fbedbb33",
   "metadata": {},
   "outputs": [
    {
     "data": {
      "text/plain": [
       "array([[ -1,   2,  -3,   4],\n",
       "       [ -5,   6,   7,  -8],\n",
       "       [  9, -10,  11, -12]])"
      ]
     },
     "execution_count": 33,
     "metadata": {},
     "output_type": "execute_result"
    }
   ],
   "source": [
    "ind1 = np.array([[-1,2,-3,4],[-5,6,7,-8],[9,-10,11,-12]])\n",
    "ind1"
   ]
  },
  {
   "cell_type": "code",
   "execution_count": 34,
   "id": "73a23962",
   "metadata": {},
   "outputs": [
    {
     "data": {
      "text/plain": [
       "array([  9, -10,  11, -12])"
      ]
     },
     "execution_count": 34,
     "metadata": {},
     "output_type": "execute_result"
    }
   ],
   "source": [
    "# to use a whole row, use its index value:\n",
    "ind1[2]"
   ]
  },
  {
   "cell_type": "code",
   "execution_count": 38,
   "id": "89feeabc",
   "metadata": {},
   "outputs": [
    {
     "data": {
      "text/plain": [
       "array([-3,  7, 11])"
      ]
     },
     "execution_count": 38,
     "metadata": {},
     "output_type": "execute_result"
    }
   ],
   "source": [
    "# to use a whole column, use:\n",
    "ind1[:,2]"
   ]
  },
  {
   "cell_type": "code",
   "execution_count": 39,
   "id": "3706b161",
   "metadata": {},
   "outputs": [
    {
     "data": {
      "text/plain": [
       "-12"
      ]
     },
     "execution_count": 39,
     "metadata": {},
     "output_type": "execute_result"
    }
   ],
   "source": [
    "# to use a specific element in the arrays, use:\n",
    "ind1[2,3]"
   ]
  },
  {
   "cell_type": "code",
   "execution_count": 40,
   "id": "681a5ee7",
   "metadata": {},
   "outputs": [
    {
     "data": {
      "text/plain": [
       "3"
      ]
     },
     "execution_count": 40,
     "metadata": {},
     "output_type": "execute_result"
    }
   ],
   "source": [
    "len(ind1)\n",
    "# shows the number of elements in the array"
   ]
  },
  {
   "cell_type": "code",
   "execution_count": 41,
   "id": "7931fdef",
   "metadata": {},
   "outputs": [
    {
     "data": {
      "text/plain": [
       "16"
      ]
     },
     "execution_count": 41,
     "metadata": {},
     "output_type": "execute_result"
    }
   ],
   "source": [
    "len(ind)"
   ]
  },
  {
   "cell_type": "code",
   "execution_count": 43,
   "id": "22d0fd5e",
   "metadata": {},
   "outputs": [
    {
     "data": {
      "text/plain": [
       "array([ 5,  6,  7,  8,  9, 10, 11, 12, 13, 14, 15, 16, 17, 18, 19, 20])"
      ]
     },
     "execution_count": 43,
     "metadata": {},
     "output_type": "execute_result"
    }
   ],
   "source": [
    "ind"
   ]
  },
  {
   "cell_type": "code",
   "execution_count": 44,
   "id": "e71d0d02",
   "metadata": {},
   "outputs": [
    {
     "data": {
      "text/plain": [
       "array([[ 5,  6,  7,  8],\n",
       "       [ 9, 10, 11, 12],\n",
       "       [13, 14, 15, 16],\n",
       "       [17, 18, 19, 20]])"
      ]
     },
     "execution_count": 44,
     "metadata": {},
     "output_type": "execute_result"
    }
   ],
   "source": [
    "ind2=ind.reshape(4,4)\n",
    "ind2"
   ]
  },
  {
   "cell_type": "code",
   "execution_count": 46,
   "id": "f0772716",
   "metadata": {},
   "outputs": [
    {
     "data": {
      "text/plain": [
       "array([[ 5,  7],\n",
       "       [ 9, 11],\n",
       "       [13, 15],\n",
       "       [17, 19]])"
      ]
     },
     "execution_count": 46,
     "metadata": {},
     "output_type": "execute_result"
    }
   ],
   "source": [
    "ind2[:,[0,2]]\n",
    "# prints the first and the third columns"
   ]
  },
  {
   "cell_type": "code",
   "execution_count": 49,
   "id": "f6b7fe98",
   "metadata": {},
   "outputs": [
    {
     "data": {
      "text/plain": [
       "array([[ 5,  6],\n",
       "       [ 9, 10],\n",
       "       [13, 14],\n",
       "       [17, 18]])"
      ]
     },
     "execution_count": 49,
     "metadata": {},
     "output_type": "execute_result"
    }
   ],
   "source": [
    "ind2[:, 0:2]\n",
    "# prints the first column and the column before thrid column"
   ]
  },
  {
   "cell_type": "code",
   "execution_count": 54,
   "id": "3902e995",
   "metadata": {},
   "outputs": [
    {
     "data": {
      "text/plain": [
       "array([[ 5,  6,  7,  8],\n",
       "       [ 9, 10, 11, 12]])"
      ]
     },
     "execution_count": 54,
     "metadata": {},
     "output_type": "execute_result"
    }
   ],
   "source": [
    "ind2[:2,:]\n",
    "# prints all rows till the second row(2nd not included), and all coulmns"
   ]
  },
  {
   "cell_type": "markdown",
   "id": "75f3a7c0",
   "metadata": {},
   "source": [
    "## Sum of Elements"
   ]
  },
  {
   "cell_type": "code",
   "execution_count": 55,
   "id": "98ffb61a",
   "metadata": {},
   "outputs": [
    {
     "data": {
      "text/plain": [
       "array([ 5,  6,  7,  8,  9, 10, 11, 12, 13, 14, 15, 16, 17, 18, 19, 20])"
      ]
     },
     "execution_count": 55,
     "metadata": {},
     "output_type": "execute_result"
    }
   ],
   "source": [
    "ind"
   ]
  },
  {
   "cell_type": "code",
   "execution_count": 56,
   "id": "2604ec5b",
   "metadata": {},
   "outputs": [
    {
     "data": {
      "text/plain": [
       "200"
      ]
     },
     "execution_count": 56,
     "metadata": {},
     "output_type": "execute_result"
    }
   ],
   "source": [
    "ind.sum()\n",
    "# Shows the sum of all elements in the array"
   ]
  },
  {
   "cell_type": "code",
   "execution_count": 57,
   "id": "7d284354",
   "metadata": {},
   "outputs": [
    {
     "data": {
      "text/plain": [
       "200"
      ]
     },
     "execution_count": 57,
     "metadata": {},
     "output_type": "execute_result"
    }
   ],
   "source": [
    "np.sum(ind)\n",
    "# Sum of elements using NumPy"
   ]
  },
  {
   "cell_type": "code",
   "execution_count": 58,
   "id": "141710de",
   "metadata": {},
   "outputs": [
    {
     "data": {
      "text/plain": [
       "12.5"
      ]
     },
     "execution_count": 58,
     "metadata": {},
     "output_type": "execute_result"
    }
   ],
   "source": [
    "# To find the mean/average of the elements in the array, use either:\n",
    "ind.mean()\n",
    "# or use:\n",
    "np.mean(ind)"
   ]
  },
  {
   "cell_type": "code",
   "execution_count": 60,
   "id": "a11b03a7",
   "metadata": {},
   "outputs": [
    {
     "ename": "AttributeError",
     "evalue": "'numpy.ndarray' object has no attribute 'median'",
     "output_type": "error",
     "traceback": [
      "\u001b[1;31m---------------------------------------------------------------------------\u001b[0m",
      "\u001b[1;31mAttributeError\u001b[0m                            Traceback (most recent call last)",
      "\u001b[1;32m~\\AppData\\Local\\Temp/ipykernel_12876/2078061755.py\u001b[0m in \u001b[0;36m<module>\u001b[1;34m\u001b[0m\n\u001b[1;32m----> 1\u001b[1;33m \u001b[0mind\u001b[0m\u001b[1;33m.\u001b[0m\u001b[0mmedian\u001b[0m\u001b[1;33m(\u001b[0m\u001b[1;33m)\u001b[0m\u001b[1;33m\u001b[0m\u001b[1;33m\u001b[0m\u001b[0m\n\u001b[0m",
      "\u001b[1;31mAttributeError\u001b[0m: 'numpy.ndarray' object has no attribute 'median'"
     ]
    }
   ],
   "source": [
    "ind.median()\n",
    "# There is no median function in Python"
   ]
  },
  {
   "cell_type": "code",
   "execution_count": 61,
   "id": "ac1f5c11",
   "metadata": {},
   "outputs": [
    {
     "data": {
      "text/plain": [
       "12.5"
      ]
     },
     "execution_count": 61,
     "metadata": {},
     "output_type": "execute_result"
    }
   ],
   "source": [
    "np.median(ind)\n",
    "# Median function is available in NumPy"
   ]
  },
  {
   "cell_type": "code",
   "execution_count": 62,
   "id": "e5cb723f",
   "metadata": {},
   "outputs": [
    {
     "data": {
      "text/plain": [
       "array([ 5,  6,  7,  8,  9, 10, 11, 12, 13, 14, 15, 16, 17, 18, 19, 20])"
      ]
     },
     "execution_count": 62,
     "metadata": {},
     "output_type": "execute_result"
    }
   ],
   "source": [
    "ind"
   ]
  },
  {
   "cell_type": "code",
   "execution_count": 92,
   "id": "042b9adf",
   "metadata": {},
   "outputs": [
    {
     "data": {
      "text/plain": [
       "array([[ 5,  6,  7,  8],\n",
       "       [ 9, 10, 11, 12],\n",
       "       [13, 14, 15, 16],\n",
       "       [17, 18, 19, 20]])"
      ]
     },
     "execution_count": 92,
     "metadata": {},
     "output_type": "execute_result"
    }
   ],
   "source": [
    "ind=ind.reshape(4,4)\n",
    "ind"
   ]
  },
  {
   "cell_type": "code",
   "execution_count": 67,
   "id": "01579ce6",
   "metadata": {},
   "outputs": [
    {
     "data": {
      "text/plain": [
       "200"
      ]
     },
     "execution_count": 67,
     "metadata": {},
     "output_type": "execute_result"
    }
   ],
   "source": [
    "ind.sum()"
   ]
  },
  {
   "cell_type": "code",
   "execution_count": 72,
   "id": "1f2d9cec",
   "metadata": {},
   "outputs": [
    {
     "data": {
      "text/plain": [
       "array([26, 42, 58, 74])"
      ]
     },
     "execution_count": 72,
     "metadata": {},
     "output_type": "execute_result"
    }
   ],
   "source": [
    "ind.sum(axis=1)\n",
    "# Gives out the sum of elements along the x-axis, i.e., 5+6+7+8=26\n",
    "# or\n",
    "ind.sum(1)"
   ]
  },
  {
   "cell_type": "code",
   "execution_count": 74,
   "id": "3687a6dd",
   "metadata": {},
   "outputs": [
    {
     "data": {
      "text/plain": [
       "array([44, 48, 52, 56])"
      ]
     },
     "execution_count": 74,
     "metadata": {},
     "output_type": "execute_result"
    }
   ],
   "source": [
    "ind.sum(axis=0)\n",
    "# Gives out the sum of elements along the y-axis, i.e., 5+9+13+17=44\n",
    "# or\n",
    "ind.sum(0)"
   ]
  },
  {
   "cell_type": "code",
   "execution_count": 75,
   "id": "9cfcd7cf",
   "metadata": {},
   "outputs": [
    {
     "data": {
      "text/plain": [
       "array([[ 5,  6,  7,  8,  9, 10, 11, 12, 13, 14, 15, 16, 17, 18, 19, 20]])"
      ]
     },
     "execution_count": 75,
     "metadata": {},
     "output_type": "execute_result"
    }
   ],
   "source": [
    "ind.reshape(1,16)"
   ]
  },
  {
   "cell_type": "markdown",
   "id": "771d61c3",
   "metadata": {},
   "source": [
    "## Arthimetic Operations on Arrays"
   ]
  },
  {
   "cell_type": "code",
   "execution_count": 93,
   "id": "6b3d250b",
   "metadata": {},
   "outputs": [
    {
     "data": {
      "text/plain": [
       "array([[ 5,  6,  7,  8],\n",
       "       [ 9, 10, 11, 12],\n",
       "       [13, 14, 15, 16],\n",
       "       [17, 18, 19, 20]])"
      ]
     },
     "execution_count": 93,
     "metadata": {},
     "output_type": "execute_result"
    }
   ],
   "source": [
    "ind"
   ]
  },
  {
   "cell_type": "code",
   "execution_count": 77,
   "id": "152f8d94",
   "metadata": {},
   "outputs": [
    {
     "data": {
      "text/plain": [
       "array([[10, 11, 12, 13],\n",
       "       [14, 15, 16, 17],\n",
       "       [18, 19, 20, 21],\n",
       "       [22, 23, 24, 25]])"
      ]
     },
     "execution_count": 77,
     "metadata": {},
     "output_type": "execute_result"
    }
   ],
   "source": [
    "# Scalar Addition\n",
    "ind+5"
   ]
  },
  {
   "cell_type": "code",
   "execution_count": 78,
   "id": "6b6f9784",
   "metadata": {},
   "outputs": [
    {
     "data": {
      "text/plain": [
       "array([[ 0,  1,  2,  3],\n",
       "       [ 4,  5,  6,  7],\n",
       "       [ 8,  9, 10, 11],\n",
       "       [12, 13, 14, 15]])"
      ]
     },
     "execution_count": 78,
     "metadata": {},
     "output_type": "execute_result"
    }
   ],
   "source": [
    "# Scalar Subtraction\n",
    "ind-5"
   ]
  },
  {
   "cell_type": "code",
   "execution_count": 80,
   "id": "e202f152",
   "metadata": {},
   "outputs": [
    {
     "data": {
      "text/plain": [
       "array([[20, 22, 24, 26],\n",
       "       [28, 30, 32, 34],\n",
       "       [36, 38, 40, 42],\n",
       "       [44, 46, 48, 50]])"
      ]
     },
     "execution_count": 80,
     "metadata": {},
     "output_type": "execute_result"
    }
   ],
   "source": [
    "# Scalar Multiplication\n",
    "(ind+5)*2"
   ]
  },
  {
   "cell_type": "code",
   "execution_count": 81,
   "id": "64985447",
   "metadata": {},
   "outputs": [
    {
     "data": {
      "text/plain": [
       "array([[ 5. ,  5.5,  6. ,  6.5],\n",
       "       [ 7. ,  7.5,  8. ,  8.5],\n",
       "       [ 9. ,  9.5, 10. , 10.5],\n",
       "       [11. , 11.5, 12. , 12.5]])"
      ]
     },
     "execution_count": 81,
     "metadata": {},
     "output_type": "execute_result"
    }
   ],
   "source": [
    "# Scalar Division\n",
    "((ind+5)*2)/4"
   ]
  },
  {
   "cell_type": "code",
   "execution_count": 94,
   "id": "50d3b70f",
   "metadata": {},
   "outputs": [
    {
     "data": {
      "text/plain": [
       "array([[-5, -5, -5, -5],\n",
       "       [ 9, 10, 11, 12],\n",
       "       [13, 14, 15, 16],\n",
       "       [17, 18, 19, 20]])"
      ]
     },
     "execution_count": 94,
     "metadata": {},
     "output_type": "execute_result"
    }
   ],
   "source": [
    "# Replacement of elements\n",
    "ind[0]=-5\n",
    "ind\n",
    "#replaced the first row with -5"
   ]
  },
  {
   "cell_type": "code",
   "execution_count": 96,
   "id": "e739d262",
   "metadata": {},
   "outputs": [
    {
     "data": {
      "text/plain": [
       "array([[ 5,  5,  5,  5],\n",
       "       [ 9, 10, 11, 12],\n",
       "       [13, 14, 15, 16],\n",
       "       [17, 18, 19, 20]])"
      ]
     },
     "execution_count": 96,
     "metadata": {},
     "output_type": "execute_result"
    }
   ],
   "source": [
    "# Absolute Function\n",
    "ind=np.abs(ind)\n",
    "ind"
   ]
  },
  {
   "cell_type": "code",
   "execution_count": 97,
   "id": "51343984",
   "metadata": {},
   "outputs": [
    {
     "data": {
      "text/plain": [
       "array([[2.23606798, 2.23606798, 2.23606798, 2.23606798],\n",
       "       [3.        , 3.16227766, 3.31662479, 3.46410162],\n",
       "       [3.60555128, 3.74165739, 3.87298335, 4.        ],\n",
       "       [4.12310563, 4.24264069, 4.35889894, 4.47213595]])"
      ]
     },
     "execution_count": 97,
     "metadata": {},
     "output_type": "execute_result"
    }
   ],
   "source": [
    "# Square Root of the elements\n",
    "np.sqrt(ind)"
   ]
  },
  {
   "cell_type": "code",
   "execution_count": 98,
   "id": "689c91cf",
   "metadata": {},
   "outputs": [
    {
     "data": {
      "text/plain": [
       "numpy.ndarray"
      ]
     },
     "execution_count": 98,
     "metadata": {},
     "output_type": "execute_result"
    }
   ],
   "source": [
    "type(ind)\n",
    "# Gives out the type of the array"
   ]
  },
  {
   "cell_type": "code",
   "execution_count": 100,
   "id": "1fcb3bcc",
   "metadata": {},
   "outputs": [
    {
     "data": {
      "text/plain": [
       "array([[0., 0., 0., 0.],\n",
       "       [0., 0., 0., 0.],\n",
       "       [0., 0., 0., 0.],\n",
       "       [0., 0., 0., 0.]])"
      ]
     },
     "execution_count": 100,
     "metadata": {},
     "output_type": "execute_result"
    }
   ],
   "source": [
    "# To create an n*n array with ZERO as elements, use:\n",
    "np.zeros((4,4))"
   ]
  },
  {
   "cell_type": "code",
   "execution_count": 104,
   "id": "b8b57be1",
   "metadata": {},
   "outputs": [
    {
     "data": {
      "text/plain": [
       "array([[1., 1., 1., 1.],\n",
       "       [1., 1., 1., 1.],\n",
       "       [1., 1., 1., 1.],\n",
       "       [1., 1., 1., 1.]])"
      ]
     },
     "execution_count": 104,
     "metadata": {},
     "output_type": "execute_result"
    }
   ],
   "source": [
    "# To create an n*n array with ONE as elements, use:\n",
    "np.ones((4,4))"
   ]
  },
  {
   "cell_type": "code",
   "execution_count": 102,
   "id": "fcef59b3",
   "metadata": {},
   "outputs": [
    {
     "data": {
      "text/plain": [
       "array([[1., 0., 0., 0., 0.],\n",
       "       [0., 1., 0., 0., 0.],\n",
       "       [0., 0., 1., 0., 0.],\n",
       "       [0., 0., 0., 1., 0.],\n",
       "       [0., 0., 0., 0., 1.]])"
      ]
     },
     "execution_count": 102,
     "metadata": {},
     "output_type": "execute_result"
    }
   ],
   "source": [
    "# To create an IDENTITY matrix, use:\n",
    "np.eye(5,5)"
   ]
  },
  {
   "cell_type": "markdown",
   "id": "59842c53",
   "metadata": {},
   "source": [
    "## Dot Product & Transpose"
   ]
  },
  {
   "cell_type": "code",
   "execution_count": 105,
   "id": "4d8676ad",
   "metadata": {},
   "outputs": [
    {
     "data": {
      "text/plain": [
       "array([[0, 1, 2, 3],\n",
       "       [4, 5, 6, 7]])"
      ]
     },
     "execution_count": 105,
     "metadata": {},
     "output_type": "execute_result"
    }
   ],
   "source": [
    "A = np.arange(8).reshape(2,4)\n",
    "B = np.arange(8).reshape(4,2)\n",
    "# Here, the number of columns in A = the number of rows in B\n",
    "A"
   ]
  },
  {
   "cell_type": "code",
   "execution_count": 106,
   "id": "ddd95a9c",
   "metadata": {},
   "outputs": [
    {
     "data": {
      "text/plain": [
       "array([[0, 1],\n",
       "       [2, 3],\n",
       "       [4, 5],\n",
       "       [6, 7]])"
      ]
     },
     "execution_count": 106,
     "metadata": {},
     "output_type": "execute_result"
    }
   ],
   "source": [
    "B"
   ]
  },
  {
   "cell_type": "code",
   "execution_count": 107,
   "id": "a0fd9111",
   "metadata": {},
   "outputs": [
    {
     "data": {
      "text/plain": [
       "array([[28, 34],\n",
       "       [76, 98]])"
      ]
     },
     "execution_count": 107,
     "metadata": {},
     "output_type": "execute_result"
    }
   ],
   "source": [
    "# Dot product of A and B\n",
    "A.dot(B)"
   ]
  },
  {
   "cell_type": "code",
   "execution_count": 108,
   "id": "e1e2a5f8",
   "metadata": {},
   "outputs": [
    {
     "data": {
      "text/plain": [
       "array([[0, 4],\n",
       "       [1, 5],\n",
       "       [2, 6],\n",
       "       [3, 7]])"
      ]
     },
     "execution_count": 108,
     "metadata": {},
     "output_type": "execute_result"
    }
   ],
   "source": [
    "# Transpose of a matrix\n",
    "A.T"
   ]
  }
 ],
 "metadata": {
  "kernelspec": {
   "display_name": "Python 3 (ipykernel)",
   "language": "python",
   "name": "python3"
  },
  "language_info": {
   "codemirror_mode": {
    "name": "ipython",
    "version": 3
   },
   "file_extension": ".py",
   "mimetype": "text/x-python",
   "name": "python",
   "nbconvert_exporter": "python",
   "pygments_lexer": "ipython3",
   "version": "3.8.8"
  }
 },
 "nbformat": 4,
 "nbformat_minor": 5
}
